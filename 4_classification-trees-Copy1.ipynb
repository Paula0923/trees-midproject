{
 "cells": [
  {
   "cell_type": "markdown",
   "id": "7813165d",
   "metadata": {},
   "source": [
    "<h1 style=\"color: #e3db24;\">00 | Libraries and Settings</h1>"
   ]
  },
  {
   "cell_type": "code",
   "execution_count": 2,
   "id": "85e114a5-e25d-41df-a862-9065ecd00ead",
   "metadata": {},
   "outputs": [],
   "source": [
    "# 📚 Basic libraries\n",
    "import pandas as pd\n",
    "import numpy as np\n",
    "import matplotlib.pyplot as plt\n",
    "import seaborn as sns\n",
    "from scipy import stats\n",
    "\n",
    "# 🤖 Machine Learning\n",
    "from sklearn.model_selection import train_test_split\n",
    "from sklearn.linear_model import LogisticRegression \n",
    "from sklearn.metrics import roc_curve, confusion_matrix, ConfusionMatrixDisplay\n",
    "from sklearn.metrics import classification_report"
   ]
  },
  {
   "cell_type": "code",
   "execution_count": 3,
   "id": "e6cbd84d-ff14-4af3-9a92-e0218d348fbf",
   "metadata": {},
   "outputs": [],
   "source": [
    "# ⚙️ Settings\n",
    "pd.set_option('display.max_columns', None) # display all columns\n",
    "pd.set_option('display.float_format', '{:,.2f}'.format)\n",
    "import warnings\n",
    "warnings.filterwarnings('ignore') # ignore warnings"
   ]
  },
  {
   "cell_type": "markdown",
   "id": "0114e245-9195-45ae-867a-7f3e0f08fe35",
   "metadata": {
    "tags": []
   },
   "source": [
    "<h1 style=\"color: #e3db24;\">01 | Data Extraction</h1>"
   ]
  },
  {
   "cell_type": "code",
   "execution_count": 5,
   "id": "4efafced-3148-473f-ba9c-f51d2485372e",
   "metadata": {},
   "outputs": [
    {
     "data": {
      "text/html": [
       "<div>\n",
       "<style scoped>\n",
       "    .dataframe tbody tr th:only-of-type {\n",
       "        vertical-align: middle;\n",
       "    }\n",
       "\n",
       "    .dataframe tbody tr th {\n",
       "        vertical-align: top;\n",
       "    }\n",
       "\n",
       "    .dataframe thead th {\n",
       "        text-align: right;\n",
       "    }\n",
       "</style>\n",
       "<table border=\"1\" class=\"dataframe\">\n",
       "  <thead>\n",
       "    <tr style=\"text-align: right;\">\n",
       "      <th></th>\n",
       "      <th>lat</th>\n",
       "      <th>long</th>\n",
       "      <th>genus</th>\n",
       "      <th>species</th>\n",
       "      <th>alley_tree</th>\n",
       "      <th>height</th>\n",
       "      <th>trunk_circumference</th>\n",
       "      <th>crown_diameter</th>\n",
       "      <th>sponsorship</th>\n",
       "      <th>variety</th>\n",
       "    </tr>\n",
       "  </thead>\n",
       "  <tbody>\n",
       "    <tr>\n",
       "      <th>0</th>\n",
       "      <td>54.06</td>\n",
       "      <td>12.10</td>\n",
       "      <td>acer</td>\n",
       "      <td>acer platanoides</td>\n",
       "      <td>0</td>\n",
       "      <td>8.00</td>\n",
       "      <td>0.69</td>\n",
       "      <td>6.00</td>\n",
       "      <td>0</td>\n",
       "      <td>0</td>\n",
       "    </tr>\n",
       "    <tr>\n",
       "      <th>1</th>\n",
       "      <td>54.05</td>\n",
       "      <td>12.10</td>\n",
       "      <td>acer</td>\n",
       "      <td>acer platanoides</td>\n",
       "      <td>0</td>\n",
       "      <td>8.00</td>\n",
       "      <td>0.69</td>\n",
       "      <td>6.00</td>\n",
       "      <td>0</td>\n",
       "      <td>0</td>\n",
       "    </tr>\n",
       "    <tr>\n",
       "      <th>2</th>\n",
       "      <td>54.07</td>\n",
       "      <td>12.12</td>\n",
       "      <td>quercus</td>\n",
       "      <td>quercus robur</td>\n",
       "      <td>0</td>\n",
       "      <td>18.00</td>\n",
       "      <td>1.10</td>\n",
       "      <td>2.00</td>\n",
       "      <td>0</td>\n",
       "      <td>0</td>\n",
       "    </tr>\n",
       "    <tr>\n",
       "      <th>3</th>\n",
       "      <td>54.07</td>\n",
       "      <td>12.12</td>\n",
       "      <td>quercus</td>\n",
       "      <td>quercus rubra</td>\n",
       "      <td>1</td>\n",
       "      <td>9.00</td>\n",
       "      <td>1.00</td>\n",
       "      <td>2.00</td>\n",
       "      <td>0</td>\n",
       "      <td>0</td>\n",
       "    </tr>\n",
       "    <tr>\n",
       "      <th>4</th>\n",
       "      <td>54.16</td>\n",
       "      <td>12.08</td>\n",
       "      <td>tilia</td>\n",
       "      <td>tilia cordata</td>\n",
       "      <td>1</td>\n",
       "      <td>7.00</td>\n",
       "      <td>0.38</td>\n",
       "      <td>3.00</td>\n",
       "      <td>0</td>\n",
       "      <td>0</td>\n",
       "    </tr>\n",
       "    <tr>\n",
       "      <th>...</th>\n",
       "      <td>...</td>\n",
       "      <td>...</td>\n",
       "      <td>...</td>\n",
       "      <td>...</td>\n",
       "      <td>...</td>\n",
       "      <td>...</td>\n",
       "      <td>...</td>\n",
       "      <td>...</td>\n",
       "      <td>...</td>\n",
       "      <td>...</td>\n",
       "    </tr>\n",
       "    <tr>\n",
       "      <th>69279</th>\n",
       "      <td>54.19</td>\n",
       "      <td>12.15</td>\n",
       "      <td>quercus</td>\n",
       "      <td>quercus robur</td>\n",
       "      <td>0</td>\n",
       "      <td>25.00</td>\n",
       "      <td>2.40</td>\n",
       "      <td>2.00</td>\n",
       "      <td>0</td>\n",
       "      <td>0</td>\n",
       "    </tr>\n",
       "    <tr>\n",
       "      <th>69280</th>\n",
       "      <td>54.19</td>\n",
       "      <td>12.15</td>\n",
       "      <td>quercus</td>\n",
       "      <td>quercus robur</td>\n",
       "      <td>0</td>\n",
       "      <td>15.00</td>\n",
       "      <td>2.23</td>\n",
       "      <td>2.00</td>\n",
       "      <td>0</td>\n",
       "      <td>0</td>\n",
       "    </tr>\n",
       "    <tr>\n",
       "      <th>69281</th>\n",
       "      <td>54.08</td>\n",
       "      <td>12.19</td>\n",
       "      <td>prunus</td>\n",
       "      <td>prunus avium</td>\n",
       "      <td>0</td>\n",
       "      <td>13.00</td>\n",
       "      <td>1.52</td>\n",
       "      <td>1.00</td>\n",
       "      <td>0</td>\n",
       "      <td>0</td>\n",
       "    </tr>\n",
       "    <tr>\n",
       "      <th>69282</th>\n",
       "      <td>54.20</td>\n",
       "      <td>12.15</td>\n",
       "      <td>pinus</td>\n",
       "      <td>pinus sylvestris</td>\n",
       "      <td>0</td>\n",
       "      <td>19.00</td>\n",
       "      <td>1.58</td>\n",
       "      <td>7.00</td>\n",
       "      <td>0</td>\n",
       "      <td>0</td>\n",
       "    </tr>\n",
       "    <tr>\n",
       "      <th>69283</th>\n",
       "      <td>54.19</td>\n",
       "      <td>12.35</td>\n",
       "      <td>robinia</td>\n",
       "      <td>robinia pseudoacacia</td>\n",
       "      <td>0</td>\n",
       "      <td>20.00</td>\n",
       "      <td>2.96</td>\n",
       "      <td>1.00</td>\n",
       "      <td>0</td>\n",
       "      <td>0</td>\n",
       "    </tr>\n",
       "  </tbody>\n",
       "</table>\n",
       "<p>69284 rows × 10 columns</p>\n",
       "</div>"
      ],
      "text/plain": [
       "        lat  long    genus               species  alley_tree  height  \\\n",
       "0     54.06 12.10     acer      acer platanoides           0    8.00   \n",
       "1     54.05 12.10     acer      acer platanoides           0    8.00   \n",
       "2     54.07 12.12  quercus         quercus robur           0   18.00   \n",
       "3     54.07 12.12  quercus         quercus rubra           1    9.00   \n",
       "4     54.16 12.08    tilia         tilia cordata           1    7.00   \n",
       "...     ...   ...      ...                   ...         ...     ...   \n",
       "69279 54.19 12.15  quercus         quercus robur           0   25.00   \n",
       "69280 54.19 12.15  quercus         quercus robur           0   15.00   \n",
       "69281 54.08 12.19   prunus          prunus avium           0   13.00   \n",
       "69282 54.20 12.15    pinus      pinus sylvestris           0   19.00   \n",
       "69283 54.19 12.35  robinia  robinia pseudoacacia           0   20.00   \n",
       "\n",
       "       trunk_circumference  crown_diameter  sponsorship variety  \n",
       "0                     0.69            6.00            0       0  \n",
       "1                     0.69            6.00            0       0  \n",
       "2                     1.10            2.00            0       0  \n",
       "3                     1.00            2.00            0       0  \n",
       "4                     0.38            3.00            0       0  \n",
       "...                    ...             ...          ...     ...  \n",
       "69279                 2.40            2.00            0       0  \n",
       "69280                 2.23            2.00            0       0  \n",
       "69281                 1.52            1.00            0       0  \n",
       "69282                 1.58            7.00            0       0  \n",
       "69283                 2.96            1.00            0       0  \n",
       "\n",
       "[69284 rows x 10 columns]"
      ]
     },
     "execution_count": 5,
     "metadata": {},
     "output_type": "execute_result"
    }
   ],
   "source": [
    "df3 = pd.read_csv('dataframes/df3_trees.csv')\n",
    "df3"
   ]
  },
  {
   "cell_type": "markdown",
   "id": "849fb065-2a0a-4344-85b6-379047e422e7",
   "metadata": {},
   "source": [
    "<h2 style=\"color: #ec7511;\">Copy of the Dataframe</h2>"
   ]
  },
  {
   "cell_type": "code",
   "execution_count": 7,
   "id": "5c926087-9fe6-427e-8210-aa3796371edb",
   "metadata": {},
   "outputs": [],
   "source": [
    "df6 = df3.copy()"
   ]
  },
  {
   "cell_type": "markdown",
   "id": "543735ef-d699-4a5f-8568-637d90c47b1b",
   "metadata": {},
   "source": [
    "<h2 style=\"color: #ec7511;\">Moving the Target \"sponsorship\" to the Right</h2>"
   ]
  },
  {
   "cell_type": "code",
   "execution_count": 9,
   "id": "75b26ba6-e7f9-42bd-aab7-0b68ae75b3cb",
   "metadata": {},
   "outputs": [
    {
     "data": {
      "text/html": [
       "<div>\n",
       "<style scoped>\n",
       "    .dataframe tbody tr th:only-of-type {\n",
       "        vertical-align: middle;\n",
       "    }\n",
       "\n",
       "    .dataframe tbody tr th {\n",
       "        vertical-align: top;\n",
       "    }\n",
       "\n",
       "    .dataframe thead th {\n",
       "        text-align: right;\n",
       "    }\n",
       "</style>\n",
       "<table border=\"1\" class=\"dataframe\">\n",
       "  <thead>\n",
       "    <tr style=\"text-align: right;\">\n",
       "      <th></th>\n",
       "      <th>lat</th>\n",
       "      <th>long</th>\n",
       "      <th>genus</th>\n",
       "      <th>species</th>\n",
       "      <th>alley_tree</th>\n",
       "      <th>height</th>\n",
       "      <th>trunk_circumference</th>\n",
       "      <th>crown_diameter</th>\n",
       "      <th>variety</th>\n",
       "    </tr>\n",
       "  </thead>\n",
       "  <tbody>\n",
       "    <tr>\n",
       "      <th>68262</th>\n",
       "      <td>54.09</td>\n",
       "      <td>12.07</td>\n",
       "      <td>populus</td>\n",
       "      <td>populus</td>\n",
       "      <td>0</td>\n",
       "      <td>20.00</td>\n",
       "      <td>1.56</td>\n",
       "      <td>3.20</td>\n",
       "      <td>0</td>\n",
       "    </tr>\n",
       "    <tr>\n",
       "      <th>57822</th>\n",
       "      <td>54.17</td>\n",
       "      <td>12.20</td>\n",
       "      <td>picea</td>\n",
       "      <td>picea abies</td>\n",
       "      <td>0</td>\n",
       "      <td>22.00</td>\n",
       "      <td>1.35</td>\n",
       "      <td>1.00</td>\n",
       "      <td>0</td>\n",
       "    </tr>\n",
       "    <tr>\n",
       "      <th>37274</th>\n",
       "      <td>54.18</td>\n",
       "      <td>12.11</td>\n",
       "      <td>acer</td>\n",
       "      <td>acer pseudoplatanus</td>\n",
       "      <td>0</td>\n",
       "      <td>8.00</td>\n",
       "      <td>0.70</td>\n",
       "      <td>7.40</td>\n",
       "      <td>0</td>\n",
       "    </tr>\n",
       "  </tbody>\n",
       "</table>\n",
       "</div>"
      ],
      "text/plain": [
       "        lat  long    genus              species  alley_tree  height  \\\n",
       "68262 54.09 12.07  populus              populus           0   20.00   \n",
       "57822 54.17 12.20    picea          picea abies           0   22.00   \n",
       "37274 54.18 12.11     acer  acer pseudoplatanus           0    8.00   \n",
       "\n",
       "       trunk_circumference  crown_diameter variety  \n",
       "68262                 1.56            3.20       0  \n",
       "57822                 1.35            1.00       0  \n",
       "37274                 0.70            7.40       0  "
      ]
     },
     "execution_count": 9,
     "metadata": {},
     "output_type": "execute_result"
    }
   ],
   "source": [
    "target = df6.pop('sponsorship')\n",
    "df6.sample(3)"
   ]
  },
  {
   "cell_type": "markdown",
   "id": "fe780e82-173e-4fd1-b277-77697ccc965d",
   "metadata": {},
   "source": [
    "<h1 style=\"color: #e3db24;\">02 | Some Extra EDA</h1>\n",
    "\n",
    "for classification some specific eda will be done "
   ]
  },
  {
   "cell_type": "markdown",
   "id": "caacc578-458c-4633-829e-c202beef4635",
   "metadata": {},
   "source": [
    "<h2 style=\"color: #ec7511;\">Multicollineratity</h2>"
   ]
  },
  {
   "cell_type": "code",
   "execution_count": 12,
   "id": "c82ae262-4eda-4156-ad18-5650dddd8c24",
   "metadata": {},
   "outputs": [
    {
     "data": {
      "text/html": [
       "<div>\n",
       "<style scoped>\n",
       "    .dataframe tbody tr th:only-of-type {\n",
       "        vertical-align: middle;\n",
       "    }\n",
       "\n",
       "    .dataframe tbody tr th {\n",
       "        vertical-align: top;\n",
       "    }\n",
       "\n",
       "    .dataframe thead th {\n",
       "        text-align: right;\n",
       "    }\n",
       "</style>\n",
       "<table border=\"1\" class=\"dataframe\">\n",
       "  <thead>\n",
       "    <tr style=\"text-align: right;\">\n",
       "      <th></th>\n",
       "      <th>lat</th>\n",
       "      <th>long</th>\n",
       "      <th>alley_tree</th>\n",
       "      <th>height</th>\n",
       "      <th>trunk_circumference</th>\n",
       "      <th>crown_diameter</th>\n",
       "    </tr>\n",
       "  </thead>\n",
       "  <tbody>\n",
       "    <tr>\n",
       "      <th>0</th>\n",
       "      <td>54.06</td>\n",
       "      <td>12.10</td>\n",
       "      <td>0</td>\n",
       "      <td>8.00</td>\n",
       "      <td>0.69</td>\n",
       "      <td>6.00</td>\n",
       "    </tr>\n",
       "    <tr>\n",
       "      <th>1</th>\n",
       "      <td>54.05</td>\n",
       "      <td>12.10</td>\n",
       "      <td>0</td>\n",
       "      <td>8.00</td>\n",
       "      <td>0.69</td>\n",
       "      <td>6.00</td>\n",
       "    </tr>\n",
       "    <tr>\n",
       "      <th>2</th>\n",
       "      <td>54.07</td>\n",
       "      <td>12.12</td>\n",
       "      <td>0</td>\n",
       "      <td>18.00</td>\n",
       "      <td>1.10</td>\n",
       "      <td>2.00</td>\n",
       "    </tr>\n",
       "    <tr>\n",
       "      <th>3</th>\n",
       "      <td>54.07</td>\n",
       "      <td>12.12</td>\n",
       "      <td>1</td>\n",
       "      <td>9.00</td>\n",
       "      <td>1.00</td>\n",
       "      <td>2.00</td>\n",
       "    </tr>\n",
       "    <tr>\n",
       "      <th>4</th>\n",
       "      <td>54.16</td>\n",
       "      <td>12.08</td>\n",
       "      <td>1</td>\n",
       "      <td>7.00</td>\n",
       "      <td>0.38</td>\n",
       "      <td>3.00</td>\n",
       "    </tr>\n",
       "    <tr>\n",
       "      <th>...</th>\n",
       "      <td>...</td>\n",
       "      <td>...</td>\n",
       "      <td>...</td>\n",
       "      <td>...</td>\n",
       "      <td>...</td>\n",
       "      <td>...</td>\n",
       "    </tr>\n",
       "    <tr>\n",
       "      <th>69279</th>\n",
       "      <td>54.19</td>\n",
       "      <td>12.15</td>\n",
       "      <td>0</td>\n",
       "      <td>25.00</td>\n",
       "      <td>2.40</td>\n",
       "      <td>2.00</td>\n",
       "    </tr>\n",
       "    <tr>\n",
       "      <th>69280</th>\n",
       "      <td>54.19</td>\n",
       "      <td>12.15</td>\n",
       "      <td>0</td>\n",
       "      <td>15.00</td>\n",
       "      <td>2.23</td>\n",
       "      <td>2.00</td>\n",
       "    </tr>\n",
       "    <tr>\n",
       "      <th>69281</th>\n",
       "      <td>54.08</td>\n",
       "      <td>12.19</td>\n",
       "      <td>0</td>\n",
       "      <td>13.00</td>\n",
       "      <td>1.52</td>\n",
       "      <td>1.00</td>\n",
       "    </tr>\n",
       "    <tr>\n",
       "      <th>69282</th>\n",
       "      <td>54.20</td>\n",
       "      <td>12.15</td>\n",
       "      <td>0</td>\n",
       "      <td>19.00</td>\n",
       "      <td>1.58</td>\n",
       "      <td>7.00</td>\n",
       "    </tr>\n",
       "    <tr>\n",
       "      <th>69283</th>\n",
       "      <td>54.19</td>\n",
       "      <td>12.35</td>\n",
       "      <td>0</td>\n",
       "      <td>20.00</td>\n",
       "      <td>2.96</td>\n",
       "      <td>1.00</td>\n",
       "    </tr>\n",
       "  </tbody>\n",
       "</table>\n",
       "<p>69284 rows × 6 columns</p>\n",
       "</div>"
      ],
      "text/plain": [
       "        lat  long  alley_tree  height  trunk_circumference  crown_diameter\n",
       "0     54.06 12.10           0    8.00                 0.69            6.00\n",
       "1     54.05 12.10           0    8.00                 0.69            6.00\n",
       "2     54.07 12.12           0   18.00                 1.10            2.00\n",
       "3     54.07 12.12           1    9.00                 1.00            2.00\n",
       "4     54.16 12.08           1    7.00                 0.38            3.00\n",
       "...     ...   ...         ...     ...                  ...             ...\n",
       "69279 54.19 12.15           0   25.00                 2.40            2.00\n",
       "69280 54.19 12.15           0   15.00                 2.23            2.00\n",
       "69281 54.08 12.19           0   13.00                 1.52            1.00\n",
       "69282 54.20 12.15           0   19.00                 1.58            7.00\n",
       "69283 54.19 12.35           0   20.00                 2.96            1.00\n",
       "\n",
       "[69284 rows x 6 columns]"
      ]
     },
     "execution_count": 12,
     "metadata": {},
     "output_type": "execute_result"
    }
   ],
   "source": [
    "num = df6.select_dtypes(include='number')\n",
    "num"
   ]
  },
  {
   "cell_type": "code",
   "execution_count": 13,
   "id": "9caafaae-d5f2-4cbb-8957-b2b2a3773861",
   "metadata": {},
   "outputs": [],
   "source": [
    "num_corr = num.corr().round(2)"
   ]
  },
  {
   "cell_type": "code",
   "execution_count": 14,
   "id": "d55176b4-356b-4629-b965-39dcd1d84513",
   "metadata": {},
   "outputs": [
    {
     "ename": "KeyError",
     "evalue": "'sponsorship'",
     "output_type": "error",
     "traceback": [
      "\u001b[1;31m---------------------------------------------------------------------------\u001b[0m",
      "\u001b[1;31mKeyError\u001b[0m                                  Traceback (most recent call last)",
      "File \u001b[1;32m~\\anaconda3\\Lib\\site-packages\\pandas\\core\\indexes\\base.py:3791\u001b[0m, in \u001b[0;36mIndex.get_loc\u001b[1;34m(self, key)\u001b[0m\n\u001b[0;32m   3790\u001b[0m \u001b[38;5;28;01mtry\u001b[39;00m:\n\u001b[1;32m-> 3791\u001b[0m     \u001b[38;5;28;01mreturn\u001b[39;00m \u001b[38;5;28mself\u001b[39m\u001b[38;5;241m.\u001b[39m_engine\u001b[38;5;241m.\u001b[39mget_loc(casted_key)\n\u001b[0;32m   3792\u001b[0m \u001b[38;5;28;01mexcept\u001b[39;00m \u001b[38;5;167;01mKeyError\u001b[39;00m \u001b[38;5;28;01mas\u001b[39;00m err:\n",
      "File \u001b[1;32mindex.pyx:152\u001b[0m, in \u001b[0;36mpandas._libs.index.IndexEngine.get_loc\u001b[1;34m()\u001b[0m\n",
      "File \u001b[1;32mindex.pyx:181\u001b[0m, in \u001b[0;36mpandas._libs.index.IndexEngine.get_loc\u001b[1;34m()\u001b[0m\n",
      "File \u001b[1;32mpandas\\_libs\\hashtable_class_helper.pxi:7080\u001b[0m, in \u001b[0;36mpandas._libs.hashtable.PyObjectHashTable.get_item\u001b[1;34m()\u001b[0m\n",
      "File \u001b[1;32mpandas\\_libs\\hashtable_class_helper.pxi:7088\u001b[0m, in \u001b[0;36mpandas._libs.hashtable.PyObjectHashTable.get_item\u001b[1;34m()\u001b[0m\n",
      "\u001b[1;31mKeyError\u001b[0m: 'sponsorship'",
      "\nThe above exception was the direct cause of the following exception:\n",
      "\u001b[1;31mKeyError\u001b[0m                                  Traceback (most recent call last)",
      "Cell \u001b[1;32mIn[14], line 1\u001b[0m\n\u001b[1;32m----> 1\u001b[0m num\u001b[38;5;241m.\u001b[39mcorrwith(num[\u001b[38;5;124m'\u001b[39m\u001b[38;5;124msponsorship\u001b[39m\u001b[38;5;124m'\u001b[39m])\u001b[38;5;241m.\u001b[39mround(\u001b[38;5;241m2\u001b[39m)\u001b[38;5;241m.\u001b[39msort_values(ascending\u001b[38;5;241m=\u001b[39m\u001b[38;5;28;01mFalse\u001b[39;00m)\n",
      "File \u001b[1;32m~\\anaconda3\\Lib\\site-packages\\pandas\\core\\frame.py:3893\u001b[0m, in \u001b[0;36mDataFrame.__getitem__\u001b[1;34m(self, key)\u001b[0m\n\u001b[0;32m   3891\u001b[0m \u001b[38;5;28;01mif\u001b[39;00m \u001b[38;5;28mself\u001b[39m\u001b[38;5;241m.\u001b[39mcolumns\u001b[38;5;241m.\u001b[39mnlevels \u001b[38;5;241m>\u001b[39m \u001b[38;5;241m1\u001b[39m:\n\u001b[0;32m   3892\u001b[0m     \u001b[38;5;28;01mreturn\u001b[39;00m \u001b[38;5;28mself\u001b[39m\u001b[38;5;241m.\u001b[39m_getitem_multilevel(key)\n\u001b[1;32m-> 3893\u001b[0m indexer \u001b[38;5;241m=\u001b[39m \u001b[38;5;28mself\u001b[39m\u001b[38;5;241m.\u001b[39mcolumns\u001b[38;5;241m.\u001b[39mget_loc(key)\n\u001b[0;32m   3894\u001b[0m \u001b[38;5;28;01mif\u001b[39;00m is_integer(indexer):\n\u001b[0;32m   3895\u001b[0m     indexer \u001b[38;5;241m=\u001b[39m [indexer]\n",
      "File \u001b[1;32m~\\anaconda3\\Lib\\site-packages\\pandas\\core\\indexes\\base.py:3798\u001b[0m, in \u001b[0;36mIndex.get_loc\u001b[1;34m(self, key)\u001b[0m\n\u001b[0;32m   3793\u001b[0m     \u001b[38;5;28;01mif\u001b[39;00m \u001b[38;5;28misinstance\u001b[39m(casted_key, \u001b[38;5;28mslice\u001b[39m) \u001b[38;5;129;01mor\u001b[39;00m (\n\u001b[0;32m   3794\u001b[0m         \u001b[38;5;28misinstance\u001b[39m(casted_key, abc\u001b[38;5;241m.\u001b[39mIterable)\n\u001b[0;32m   3795\u001b[0m         \u001b[38;5;129;01mand\u001b[39;00m \u001b[38;5;28many\u001b[39m(\u001b[38;5;28misinstance\u001b[39m(x, \u001b[38;5;28mslice\u001b[39m) \u001b[38;5;28;01mfor\u001b[39;00m x \u001b[38;5;129;01min\u001b[39;00m casted_key)\n\u001b[0;32m   3796\u001b[0m     ):\n\u001b[0;32m   3797\u001b[0m         \u001b[38;5;28;01mraise\u001b[39;00m InvalidIndexError(key)\n\u001b[1;32m-> 3798\u001b[0m     \u001b[38;5;28;01mraise\u001b[39;00m \u001b[38;5;167;01mKeyError\u001b[39;00m(key) \u001b[38;5;28;01mfrom\u001b[39;00m \u001b[38;5;21;01merr\u001b[39;00m\n\u001b[0;32m   3799\u001b[0m \u001b[38;5;28;01mexcept\u001b[39;00m \u001b[38;5;167;01mTypeError\u001b[39;00m:\n\u001b[0;32m   3800\u001b[0m     \u001b[38;5;66;03m# If we have a listlike key, _check_indexing_error will raise\u001b[39;00m\n\u001b[0;32m   3801\u001b[0m     \u001b[38;5;66;03m#  InvalidIndexError. Otherwise we fall through and re-raise\u001b[39;00m\n\u001b[0;32m   3802\u001b[0m     \u001b[38;5;66;03m#  the TypeError.\u001b[39;00m\n\u001b[0;32m   3803\u001b[0m     \u001b[38;5;28mself\u001b[39m\u001b[38;5;241m.\u001b[39m_check_indexing_error(key)\n",
      "\u001b[1;31mKeyError\u001b[0m: 'sponsorship'"
     ]
    }
   ],
   "source": [
    "num.corrwith(num['sponsorship']).round(2).sort_values(ascending=False)"
   ]
  },
  {
   "cell_type": "code",
   "execution_count": null,
   "id": "d7d417b4-808c-4da4-8687-0b2d3ee3d22f",
   "metadata": {},
   "outputs": [],
   "source": [
    "# heatmap correlation matrix\n",
    "mask = np.zeros_like(num_corr)\n",
    "\n",
    "f, ax = plt.subplots(figsize=(25, 15))\n",
    "sns.set(font_scale=1.5)\n",
    "\n",
    "ax = sns.heatmap(num_corr, mask=mask, annot=True, annot_kws={\"size\": 12}, linewidths=.5, cmap=\"coolwarm\", fmt=\".2f\", ax=ax)\n",
    "ax.set_title(\"Multicollinearity for Predicting 'Sponsorship'\", fontsize=20)\n",
    "plt.show()"
   ]
  },
  {
   "cell_type": "code",
   "execution_count": null,
   "id": "ab14c933-12a4-41d1-8823-273184846cef",
   "metadata": {},
   "outputs": [],
   "source": [
    "# display because annot in heatmap doesn't work for me\n",
    "num_corr"
   ]
  },
  {
   "cell_type": "markdown",
   "id": "5136973e-0d22-4a39-b298-872aaff8c906",
   "metadata": {},
   "source": [
    "<div style=\"\n",
    "    padding: 15px;\n",
    "    margin: 10px 0;\n",
    "    border: 1px solid #b8daff;\n",
    "    border-radius: 4px;\n",
    "    background-color: #0eece8;\n",
    "    color: #004085;\n",
    "    font-size: 16px;\n",
    "    line-height: 1.5;\n",
    "    word-wrap: break-word;\n",
    "    text-align: left;\">\n",
    "    <strong>Conclusions: dadadada</strong>\n",
    "<p>TEXT</p>\n",
    "    <ul>\n",
    "        <li>TEXT</li>\n",
    "        <li>TEXT</li>\n",
    "        <li>TEXT</li>\n",
    "        <li>TEXT</li>\n",
    "    </ul>\n",
    "</div>\n"
   ]
  },
  {
   "cell_type": "markdown",
   "id": "2a716449-cd20-454c-8e21-805617121efc",
   "metadata": {},
   "source": [
    "<h1 style=\"color: #e3db24;\">03 | Classification</h1>"
   ]
  },
  {
   "cell_type": "markdown",
   "id": "ee0af112-748b-467f-8dff-c4cc2d487287",
   "metadata": {},
   "source": [
    "<div style=\"\n",
    "    padding: 15px;\n",
    "    margin: 10px 0;\n",
    "    border: 1px solid #f7b70d;\n",
    "    border-radius: 4px;\n",
    "    background-color: #e2ee1e;\n",
    "    color: #060606;\n",
    "    font-size: 16px;\n",
    "    line-height: 1.5;\n",
    "    word-wrap: break-word;\n",
    "    text-align: left;\">\n",
    "    <strong>Next Steps:</strong>\n",
    "<p>for classification model etc..</p>\n",
    "</div>\n"
   ]
  },
  {
   "cell_type": "markdown",
   "id": "2500ae58-541b-4aed-bb65-0ae83e83744b",
   "metadata": {},
   "source": [
    "<h2 style=\"color: #ec7511;\">Data Processing</h2>"
   ]
  },
  {
   "cell_type": "markdown",
   "id": "962091ba-0828-4428-8ed2-7735f4164e78",
   "metadata": {},
   "source": [
    "<h3 style=\"color: #ec300e;\">X-y Split</h3>"
   ]
  },
  {
   "cell_type": "markdown",
   "id": "bf53c008-e656-41e3-9c59-63f985b32bae",
   "metadata": {
    "tags": []
   },
   "source": [
    "<h2 style=\"color: #ec7511;\">Modeling</h2>"
   ]
  },
  {
   "cell_type": "markdown",
   "id": "0976947a-c921-4bbb-a3d8-187667a181b6",
   "metadata": {},
   "source": [
    "<h3 style=\"color: #ec300e;\">Train-Test Split</h3>"
   ]
  },
  {
   "cell_type": "markdown",
   "id": "7e0d9b38-a615-4de3-b47d-afb906a1968e",
   "metadata": {},
   "source": [
    "<h3 style=\"color: #ec300e;\">Model: Logistic Regression</h3>\n",
    "\n",
    "Logistic regression is one of the most popular and used algorithms for classification problems. Since it is also relatively uncomplicated and easy to implement, it is often used as a starting model, although it can also produce very high-performance results used in production. Here we are going to talk about Binomial Logistic Regression, which is used for binary results. Multinomial Logistic Regression exists and can be used for multiclass classification problems, but it is used less frequently. We will not cover it in this lesson.\n",
    "\n",
    "Logistic regression is actually a transformed linear regression function. We can see in the image below that if we tried to fit a linear regression to some data with a binary result, we would fit a line that does not predict very well for any value that is not in the extreme values: in the middle there is a lot of area where the line is very far from the points. To make our function closer to the data, we have to transform the function we are using. In this case, it is useful to use a sigmoid function, which estimates an \"S\" shape. Now we can see that our line fits the data much better."
   ]
  },
  {
   "cell_type": "code",
   "execution_count": null,
   "id": "bf96b76c-6f2a-44c4-b43c-1459ebfa1a3d",
   "metadata": {},
   "outputs": [],
   "source": [
    "model = LogisticRegression()"
   ]
  },
  {
   "cell_type": "code",
   "execution_count": null,
   "id": "638bc511-35d4-4a20-83be-ad12db4ab574",
   "metadata": {},
   "outputs": [],
   "source": [
    "model.fit(X_train, y_train)"
   ]
  },
  {
   "cell_type": "markdown",
   "id": "e5afc04f-ffed-4e93-b4e8-d43562717ace",
   "metadata": {},
   "source": [
    "<h2 style=\"color: #ec7511;\">Model Validation</h2>"
   ]
  },
  {
   "cell_type": "code",
   "execution_count": null,
   "id": "3871a697-e30e-48aa-b524-575a7358f303",
   "metadata": {},
   "outputs": [],
   "source": [
    "predictions = model.predict(X_test)"
   ]
  },
  {
   "cell_type": "code",
   "execution_count": null,
   "id": "9db5b1a9-6931-4a75-bd77-b0449cef5692",
   "metadata": {},
   "outputs": [],
   "source": [
    "print(f'30% for test prediction data: {len(predictions)}.')"
   ]
  },
  {
   "cell_type": "markdown",
   "id": "cef9b763-9fb7-4b32-a838-36803737b6dd",
   "metadata": {},
   "source": [
    "<h3 style=\"color: #FF6347;\">Metrics</h3>"
   ]
  },
  {
   "cell_type": "code",
   "execution_count": null,
   "id": "07df2bc0-ba8a-46f2-be60-1bd85f3a0c66",
   "metadata": {},
   "outputs": [],
   "source": [
    "print(classification_report(y_test, predictions))"
   ]
  },
  {
   "cell_type": "code",
   "execution_count": null,
   "id": "3db709c6-0f7f-45d9-bf6a-edfa655a9350",
   "metadata": {},
   "outputs": [],
   "source": [
    "print(\"Test data accuracy: \",model.score(X_test,y_test))\n",
    "print(\"Train data accuracy: \", model.score(X_train, y_train))"
   ]
  },
  {
   "cell_type": "code",
   "execution_count": null,
   "id": "4e4e133e-fc29-425d-980b-a4d15c857cca",
   "metadata": {},
   "outputs": [],
   "source": [
    "cm = confusion_matrix(y_test, predictions)"
   ]
  },
  {
   "cell_type": "code",
   "execution_count": null,
   "id": "6d25ff4e-d6a8-4acb-8fc9-79f782b1a741",
   "metadata": {},
   "outputs": [],
   "source": [
    "disp = ConfusionMatrixDisplay(confusion_matrix=cm)\n",
    "plt.figure(figsize=(8, 6))\n",
    "disp.plot(cmap='Oranges')  \n",
    "plt.grid(True)\n",
    "plt.show()"
   ]
  },
  {
   "cell_type": "markdown",
   "id": "9d751f28-9daf-4b78-a1c4-7004263aec1e",
   "metadata": {},
   "source": [
    "<div style=\"\n",
    "    padding: 15px;\n",
    "    margin: 10px 0;\n",
    "    border: 1px solid #b8daff;\n",
    "    border-radius: 4px;\n",
    "    background-color: #0eece8;\n",
    "    color: #004085;\n",
    "    font-size: 16px;\n",
    "    line-height: 1.5;\n",
    "    word-wrap: break-word;\n",
    "    text-align: left;\">\n",
    "    <strong>Conclusions: dadada</strong>\n",
    "<p>TEXT</p>\n",
    "    <ul>\n",
    "        <li>TEXT</li>\n",
    "        <li>TEXT</li>\n",
    "        <li>TEXT</li>\n",
    "        <li>TEXT</li>\n",
    "    </ul>\n",
    "</div>\n"
   ]
  },
  {
   "cell_type": "markdown",
   "id": "76ca3f20-b395-4e33-b267-5421a00c7712",
   "metadata": {
    "tags": []
   },
   "source": [
    "<h1 style=\"color: #e3db24;\">06 | Improving the Model</h1>"
   ]
  },
  {
   "cell_type": "code",
   "execution_count": null,
   "id": "d032ed17-b865-4d3c-a8b0-77f883b1ac54",
   "metadata": {},
   "outputs": [],
   "source": []
  },
  {
   "cell_type": "code",
   "execution_count": null,
   "id": "b3a01fbb-f846-4019-b396-8a6500b9c42f",
   "metadata": {},
   "outputs": [],
   "source": []
  },
  {
   "cell_type": "code",
   "execution_count": null,
   "id": "25d41d94-dc57-46e6-a79a-6e726e5cb0ce",
   "metadata": {},
   "outputs": [],
   "source": []
  },
  {
   "cell_type": "markdown",
   "id": "1a9a1325-cbf7-414d-b39e-41824d11e7f5",
   "metadata": {},
   "source": [
    "<h1 style=\"color: #e3db24;\">07 | Reporting</h1>"
   ]
  }
 ],
 "metadata": {
  "kernelspec": {
   "display_name": "Python 3 (ipykernel)",
   "language": "python",
   "name": "python3"
  },
  "language_info": {
   "codemirror_mode": {
    "name": "ipython",
    "version": 3
   },
   "file_extension": ".py",
   "mimetype": "text/x-python",
   "name": "python",
   "nbconvert_exporter": "python",
   "pygments_lexer": "ipython3",
   "version": "3.11.7"
  }
 },
 "nbformat": 4,
 "nbformat_minor": 5
}
