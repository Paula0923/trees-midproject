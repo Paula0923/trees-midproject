{
 "cells": [
  {
   "cell_type": "markdown",
   "id": "7813165d",
   "metadata": {},
   "source": [
    "<h1 style=\"color: #e3db24;\">00 | Libraries and Settings</h1>"
   ]
  },
  {
   "cell_type": "code",
   "execution_count": null,
   "id": "85e114a5-e25d-41df-a862-9065ecd00ead",
   "metadata": {},
   "outputs": [],
   "source": [
    "# 📚 Basic libraries\n",
    "import pandas as pd\n",
    "import numpy as np\n",
    "import matplotlib.pyplot as plt\n",
    "import seaborn as sns\n",
    "from scipy import stats\n",
    "\n",
    "# 🤖 Machine Learning\n",
    "from sklearn.model_selection import train_test_split\n",
    "from sklearn.linear_model import LogisticRegression \n",
    "from sklearn.metrics import roc_curve, confusion_matrix, ConfusionMatrixDisplay\n",
    "from sklearn.metrics import classification_report"
   ]
  },
  {
   "cell_type": "code",
   "execution_count": null,
   "id": "e6cbd84d-ff14-4af3-9a92-e0218d348fbf",
   "metadata": {},
   "outputs": [],
   "source": [
    "# ⚙️ Settings\n",
    "pd.set_option('display.max_columns', None) # display all columns\n",
    "pd.set_option('display.float_format', '{:,.2f}'.format)\n",
    "import warnings\n",
    "warnings.filterwarnings('ignore') # ignore warnings"
   ]
  },
  {
   "cell_type": "markdown",
   "id": "0114e245-9195-45ae-867a-7f3e0f08fe35",
   "metadata": {
    "tags": []
   },
   "source": [
    "<h1 style=\"color: #e3db24;\">01 | Data Extraction</h1>"
   ]
  },
  {
   "cell_type": "code",
   "execution_count": null,
   "id": "4efafced-3148-473f-ba9c-f51d2485372e",
   "metadata": {},
   "outputs": [],
   "source": [
    "df3 = pd.read_csv('df3_trees_cleaned.csv')\n",
    "df3"
   ]
  },
  {
   "cell_type": "markdown",
   "id": "849fb065-2a0a-4344-85b6-379047e422e7",
   "metadata": {},
   "source": [
    "<h2 style=\"color: #ec7511;\">Copy of the Dataframe</h2>"
   ]
  },
  {
   "cell_type": "code",
   "execution_count": null,
   "id": "5c926087-9fe6-427e-8210-aa3796371edb",
   "metadata": {},
   "outputs": [],
   "source": [
    "df6 = df3.copy()"
   ]
  },
  {
   "cell_type": "markdown",
   "id": "543735ef-d699-4a5f-8568-637d90c47b1b",
   "metadata": {},
   "source": [
    "<h2 style=\"color: #ec7511;\">Moving the Target \"sponsorship\" to the Right</h2>"
   ]
  },
  {
   "cell_type": "code",
   "execution_count": null,
   "id": "75b26ba6-e7f9-42bd-aab7-0b68ae75b3cb",
   "metadata": {},
   "outputs": [],
   "source": [
    "target = df4.pop('sponsorship')\n",
    "df4.sample(3)"
   ]
  },
  {
   "cell_type": "markdown",
   "id": "fe780e82-173e-4fd1-b277-77697ccc965d",
   "metadata": {},
   "source": [
    "<h1 style=\"color: #e3db24;\">02 | Some Extra EDA</h1>\n",
    "\n",
    "for classification some specific eda will be done "
   ]
  },
  {
   "cell_type": "markdown",
   "id": "caacc578-458c-4633-829e-c202beef4635",
   "metadata": {},
   "source": [
    "<h2 style=\"color: #ec7511;\">Multicollineratity</h2>"
   ]
  },
  {
   "cell_type": "code",
   "execution_count": null,
   "id": "c82ae262-4eda-4156-ad18-5650dddd8c24",
   "metadata": {},
   "outputs": [],
   "source": [
    "num = df6.select_dtypes(include='number')\n",
    "num"
   ]
  },
  {
   "cell_type": "code",
   "execution_count": null,
   "id": "9caafaae-d5f2-4cbb-8957-b2b2a3773861",
   "metadata": {},
   "outputs": [],
   "source": [
    "num_corr = num.corr().round(2)"
   ]
  },
  {
   "cell_type": "code",
   "execution_count": null,
   "id": "d55176b4-356b-4629-b965-39dcd1d84513",
   "metadata": {},
   "outputs": [],
   "source": [
    "num.corrwith(num['sponsorship']).round(2).sort_values(ascending=False)"
   ]
  },
  {
   "cell_type": "code",
   "execution_count": null,
   "id": "d7d417b4-808c-4da4-8687-0b2d3ee3d22f",
   "metadata": {},
   "outputs": [],
   "source": [
    "# heatmap correlation matrix\n",
    "mask = np.zeros_like(num_corr)\n",
    "\n",
    "f, ax = plt.subplots(figsize=(25, 15))\n",
    "sns.set(font_scale=1.5)\n",
    "\n",
    "ax = sns.heatmap(num_corr, mask=mask, annot=True, annot_kws={\"size\": 12}, linewidths=.5, cmap=\"coolwarm\", fmt=\".2f\", ax=ax)\n",
    "ax.set_title(\"Multicollinearity for Predicting 'Sponsorship'\", fontsize=20)\n",
    "plt.show()"
   ]
  },
  {
   "cell_type": "code",
   "execution_count": null,
   "id": "ab14c933-12a4-41d1-8823-273184846cef",
   "metadata": {},
   "outputs": [],
   "source": [
    "# display because annot in heatmap doesn't work for me\n",
    "num_corr"
   ]
  },
  {
   "cell_type": "markdown",
   "id": "5136973e-0d22-4a39-b298-872aaff8c906",
   "metadata": {},
   "source": [
    "<div style=\"\n",
    "    padding: 15px;\n",
    "    margin: 10px 0;\n",
    "    border: 1px solid #b8daff;\n",
    "    border-radius: 4px;\n",
    "    background-color: #0eece8;\n",
    "    color: #004085;\n",
    "    font-size: 16px;\n",
    "    line-height: 1.5;\n",
    "    word-wrap: break-word;\n",
    "    text-align: left;\">\n",
    "    <strong>Conclusions: dadadada</strong>\n",
    "<p>TEXT</p>\n",
    "    <ul>\n",
    "        <li>TEXT</li>\n",
    "        <li>TEXT</li>\n",
    "        <li>TEXT</li>\n",
    "        <li>TEXT</li>\n",
    "    </ul>\n",
    "</div>\n"
   ]
  },
  {
   "cell_type": "markdown",
   "id": "2a716449-cd20-454c-8e21-805617121efc",
   "metadata": {},
   "source": [
    "<h1 style=\"color: #e3db24;\">03 | Classification</h1>"
   ]
  },
  {
   "cell_type": "markdown",
   "id": "ee0af112-748b-467f-8dff-c4cc2d487287",
   "metadata": {},
   "source": [
    "<div style=\"\n",
    "    padding: 15px;\n",
    "    margin: 10px 0;\n",
    "    border: 1px solid #f7b70d;\n",
    "    border-radius: 4px;\n",
    "    background-color: #e2ee1e;\n",
    "    color: #060606;\n",
    "    font-size: 16px;\n",
    "    line-height: 1.5;\n",
    "    word-wrap: break-word;\n",
    "    text-align: left;\">\n",
    "    <strong>Next Steps:</strong>\n",
    "<p>for classification model etc..</p>\n",
    "</div>\n"
   ]
  },
  {
   "cell_type": "markdown",
   "id": "2500ae58-541b-4aed-bb65-0ae83e83744b",
   "metadata": {},
   "source": [
    "<h2 style=\"color: #ec7511;\">Data Processing</h2>"
   ]
  },
  {
   "cell_type": "markdown",
   "id": "962091ba-0828-4428-8ed2-7735f4164e78",
   "metadata": {},
   "source": [
    "<h3 style=\"color: #ec300e;\">X-y Split</h3>"
   ]
  },
  {
   "cell_type": "markdown",
   "id": "bf53c008-e656-41e3-9c59-63f985b32bae",
   "metadata": {
    "tags": []
   },
   "source": [
    "<h2 style=\"color: #ec7511;\">Modeling</h2>"
   ]
  },
  {
   "cell_type": "markdown",
   "id": "0976947a-c921-4bbb-a3d8-187667a181b6",
   "metadata": {},
   "source": [
    "<h3 style=\"color: #ec300e;\">Train-Test Split</h3>"
   ]
  },
  {
   "cell_type": "markdown",
   "id": "7e0d9b38-a615-4de3-b47d-afb906a1968e",
   "metadata": {},
   "source": [
    "<h3 style=\"color: #ec300e;\">Model: Logistic Regression</h3>\n",
    "\n",
    "Logistic regression is one of the most popular and used algorithms for classification problems. Since it is also relatively uncomplicated and easy to implement, it is often used as a starting model, although it can also produce very high-performance results used in production. Here we are going to talk about Binomial Logistic Regression, which is used for binary results. Multinomial Logistic Regression exists and can be used for multiclass classification problems, but it is used less frequently. We will not cover it in this lesson.\n",
    "\n",
    "Logistic regression is actually a transformed linear regression function. We can see in the image below that if we tried to fit a linear regression to some data with a binary result, we would fit a line that does not predict very well for any value that is not in the extreme values: in the middle there is a lot of area where the line is very far from the points. To make our function closer to the data, we have to transform the function we are using. In this case, it is useful to use a sigmoid function, which estimates an \"S\" shape. Now we can see that our line fits the data much better."
   ]
  },
  {
   "cell_type": "code",
   "execution_count": null,
   "id": "bf96b76c-6f2a-44c4-b43c-1459ebfa1a3d",
   "metadata": {},
   "outputs": [],
   "source": [
    "model = LogisticRegression()"
   ]
  },
  {
   "cell_type": "code",
   "execution_count": null,
   "id": "638bc511-35d4-4a20-83be-ad12db4ab574",
   "metadata": {},
   "outputs": [],
   "source": [
    "model.fit(X_train, y_train)"
   ]
  },
  {
   "cell_type": "markdown",
   "id": "e5afc04f-ffed-4e93-b4e8-d43562717ace",
   "metadata": {},
   "source": [
    "<h2 style=\"color: #ec7511;\">Model Validation</h2>"
   ]
  },
  {
   "cell_type": "code",
   "execution_count": null,
   "id": "3871a697-e30e-48aa-b524-575a7358f303",
   "metadata": {},
   "outputs": [],
   "source": [
    "predictions = model.predict(X_test)"
   ]
  },
  {
   "cell_type": "code",
   "execution_count": null,
   "id": "9db5b1a9-6931-4a75-bd77-b0449cef5692",
   "metadata": {},
   "outputs": [],
   "source": [
    "print(f'30% for test prediction data: {len(predictions)}.')"
   ]
  },
  {
   "cell_type": "markdown",
   "id": "cef9b763-9fb7-4b32-a838-36803737b6dd",
   "metadata": {},
   "source": [
    "<h3 style=\"color: #FF6347;\">Metrics</h3>"
   ]
  },
  {
   "cell_type": "code",
   "execution_count": null,
   "id": "07df2bc0-ba8a-46f2-be60-1bd85f3a0c66",
   "metadata": {},
   "outputs": [],
   "source": [
    "print(classification_report(y_test, predictions))"
   ]
  },
  {
   "cell_type": "code",
   "execution_count": null,
   "id": "3db709c6-0f7f-45d9-bf6a-edfa655a9350",
   "metadata": {},
   "outputs": [],
   "source": [
    "print(\"Test data accuracy: \",model.score(X_test,y_test))\n",
    "print(\"Train data accuracy: \", model.score(X_train, y_train))"
   ]
  },
  {
   "cell_type": "code",
   "execution_count": null,
   "id": "4e4e133e-fc29-425d-980b-a4d15c857cca",
   "metadata": {},
   "outputs": [],
   "source": [
    "cm = confusion_matrix(y_test, predictions)"
   ]
  },
  {
   "cell_type": "code",
   "execution_count": null,
   "id": "6d25ff4e-d6a8-4acb-8fc9-79f782b1a741",
   "metadata": {},
   "outputs": [],
   "source": [
    "disp = ConfusionMatrixDisplay(confusion_matrix=cm)\n",
    "plt.figure(figsize=(8, 6))\n",
    "disp.plot(cmap='Oranges')  \n",
    "plt.grid(True)\n",
    "plt.show()"
   ]
  },
  {
   "cell_type": "markdown",
   "id": "9d751f28-9daf-4b78-a1c4-7004263aec1e",
   "metadata": {},
   "source": [
    "<div style=\"\n",
    "    padding: 15px;\n",
    "    margin: 10px 0;\n",
    "    border: 1px solid #b8daff;\n",
    "    border-radius: 4px;\n",
    "    background-color: #0eece8;\n",
    "    color: #004085;\n",
    "    font-size: 16px;\n",
    "    line-height: 1.5;\n",
    "    word-wrap: break-word;\n",
    "    text-align: left;\">\n",
    "    <strong>Conclusions: dadada</strong>\n",
    "<p>TEXT</p>\n",
    "    <ul>\n",
    "        <li>TEXT</li>\n",
    "        <li>TEXT</li>\n",
    "        <li>TEXT</li>\n",
    "        <li>TEXT</li>\n",
    "    </ul>\n",
    "</div>\n"
   ]
  },
  {
   "cell_type": "markdown",
   "id": "76ca3f20-b395-4e33-b267-5421a00c7712",
   "metadata": {
    "tags": []
   },
   "source": [
    "<h1 style=\"color: #e3db24;\">06 | Improving the Model</h1>"
   ]
  },
  {
   "cell_type": "code",
   "execution_count": null,
   "id": "d032ed17-b865-4d3c-a8b0-77f883b1ac54",
   "metadata": {},
   "outputs": [],
   "source": []
  },
  {
   "cell_type": "code",
   "execution_count": null,
   "id": "b3a01fbb-f846-4019-b396-8a6500b9c42f",
   "metadata": {},
   "outputs": [],
   "source": []
  },
  {
   "cell_type": "code",
   "execution_count": null,
   "id": "25d41d94-dc57-46e6-a79a-6e726e5cb0ce",
   "metadata": {},
   "outputs": [],
   "source": []
  },
  {
   "cell_type": "markdown",
   "id": "1a9a1325-cbf7-414d-b39e-41824d11e7f5",
   "metadata": {},
   "source": [
    "<h1 style=\"color: #e3db24;\">07 | Reporting</h1>"
   ]
  }
 ],
 "metadata": {
  "kernelspec": {
   "display_name": "Python 3 (ipykernel)",
   "language": "python",
   "name": "python3"
  },
  "language_info": {
   "codemirror_mode": {
    "name": "ipython",
    "version": 3
   },
   "file_extension": ".py",
   "mimetype": "text/x-python",
   "name": "python",
   "nbconvert_exporter": "python",
   "pygments_lexer": "ipython3",
   "version": "3.11.7"
  }
 },
 "nbformat": 4,
 "nbformat_minor": 5
}
