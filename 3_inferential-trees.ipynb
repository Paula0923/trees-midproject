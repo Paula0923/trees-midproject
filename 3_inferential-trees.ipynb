{
 "cells": [
  {
   "cell_type": "markdown",
   "id": "7813165d",
   "metadata": {},
   "source": [
    "<h1 style=\"color: #e3db24;\">00 | Libraries and Settings</h1>"
   ]
  },
  {
   "cell_type": "code",
   "execution_count": 2,
   "id": "85e114a5-e25d-41df-a862-9065ecd00ead",
   "metadata": {},
   "outputs": [],
   "source": [
    "# 📚 Basic libraries\n",
    "import pandas as pd\n",
    "import numpy as np\n",
    "import matplotlib.pyplot as plt\n",
    "import scipy.stats as st\n",
    "#import statsmodels.api as sm\n",
    "#import statsmodels.formula.api as smf"
   ]
  },
  {
   "cell_type": "code",
   "execution_count": 3,
   "id": "e6cbd84d-ff14-4af3-9a92-e0218d348fbf",
   "metadata": {},
   "outputs": [],
   "source": [
    "# ⚙️ Settings\n",
    "pd.set_option('display.max_columns', None) # display all columns\n",
    "pd.set_option('display.float_format', '{:,.2f}'.format)\n",
    "import warnings\n",
    "warnings.filterwarnings('ignore') # ignore warnings"
   ]
  },
  {
   "cell_type": "markdown",
   "id": "0114e245-9195-45ae-867a-7f3e0f08fe35",
   "metadata": {
    "tags": []
   },
   "source": [
    "<h1 style=\"color: #e3db24;\">01 | Data Extraction and Exploration</h1>"
   ]
  },
  {
   "cell_type": "code",
   "execution_count": 5,
   "id": "4efafced-3148-473f-ba9c-f51d2485372e",
   "metadata": {},
   "outputs": [
    {
     "data": {
      "text/html": [
       "<div>\n",
       "<style scoped>\n",
       "    .dataframe tbody tr th:only-of-type {\n",
       "        vertical-align: middle;\n",
       "    }\n",
       "\n",
       "    .dataframe tbody tr th {\n",
       "        vertical-align: top;\n",
       "    }\n",
       "\n",
       "    .dataframe thead th {\n",
       "        text-align: right;\n",
       "    }\n",
       "</style>\n",
       "<table border=\"1\" class=\"dataframe\">\n",
       "  <thead>\n",
       "    <tr style=\"text-align: right;\">\n",
       "      <th></th>\n",
       "      <th>lat</th>\n",
       "      <th>long</th>\n",
       "      <th>genus</th>\n",
       "      <th>species</th>\n",
       "      <th>alley_tree</th>\n",
       "      <th>height</th>\n",
       "      <th>trunk_circumference</th>\n",
       "      <th>crown_diameter</th>\n",
       "      <th>sponsorship</th>\n",
       "      <th>variety</th>\n",
       "    </tr>\n",
       "  </thead>\n",
       "  <tbody>\n",
       "    <tr>\n",
       "      <th>0</th>\n",
       "      <td>54.06</td>\n",
       "      <td>12.10</td>\n",
       "      <td>acer</td>\n",
       "      <td>acer platanoides</td>\n",
       "      <td>0</td>\n",
       "      <td>8.00</td>\n",
       "      <td>0.69</td>\n",
       "      <td>6.00</td>\n",
       "      <td>0</td>\n",
       "      <td>0</td>\n",
       "    </tr>\n",
       "    <tr>\n",
       "      <th>1</th>\n",
       "      <td>54.05</td>\n",
       "      <td>12.10</td>\n",
       "      <td>acer</td>\n",
       "      <td>acer platanoides</td>\n",
       "      <td>0</td>\n",
       "      <td>8.00</td>\n",
       "      <td>0.69</td>\n",
       "      <td>6.00</td>\n",
       "      <td>0</td>\n",
       "      <td>0</td>\n",
       "    </tr>\n",
       "    <tr>\n",
       "      <th>2</th>\n",
       "      <td>54.07</td>\n",
       "      <td>12.12</td>\n",
       "      <td>quercus</td>\n",
       "      <td>quercus robur</td>\n",
       "      <td>0</td>\n",
       "      <td>18.00</td>\n",
       "      <td>1.10</td>\n",
       "      <td>2.00</td>\n",
       "      <td>0</td>\n",
       "      <td>0</td>\n",
       "    </tr>\n",
       "    <tr>\n",
       "      <th>3</th>\n",
       "      <td>54.07</td>\n",
       "      <td>12.12</td>\n",
       "      <td>quercus</td>\n",
       "      <td>quercus rubra</td>\n",
       "      <td>1</td>\n",
       "      <td>9.00</td>\n",
       "      <td>1.00</td>\n",
       "      <td>2.00</td>\n",
       "      <td>0</td>\n",
       "      <td>0</td>\n",
       "    </tr>\n",
       "    <tr>\n",
       "      <th>4</th>\n",
       "      <td>54.16</td>\n",
       "      <td>12.08</td>\n",
       "      <td>tilia</td>\n",
       "      <td>tilia cordata</td>\n",
       "      <td>1</td>\n",
       "      <td>7.00</td>\n",
       "      <td>0.38</td>\n",
       "      <td>3.00</td>\n",
       "      <td>0</td>\n",
       "      <td>0</td>\n",
       "    </tr>\n",
       "    <tr>\n",
       "      <th>...</th>\n",
       "      <td>...</td>\n",
       "      <td>...</td>\n",
       "      <td>...</td>\n",
       "      <td>...</td>\n",
       "      <td>...</td>\n",
       "      <td>...</td>\n",
       "      <td>...</td>\n",
       "      <td>...</td>\n",
       "      <td>...</td>\n",
       "      <td>...</td>\n",
       "    </tr>\n",
       "    <tr>\n",
       "      <th>69279</th>\n",
       "      <td>54.19</td>\n",
       "      <td>12.15</td>\n",
       "      <td>quercus</td>\n",
       "      <td>quercus robur</td>\n",
       "      <td>0</td>\n",
       "      <td>25.00</td>\n",
       "      <td>2.40</td>\n",
       "      <td>2.00</td>\n",
       "      <td>0</td>\n",
       "      <td>0</td>\n",
       "    </tr>\n",
       "    <tr>\n",
       "      <th>69280</th>\n",
       "      <td>54.19</td>\n",
       "      <td>12.15</td>\n",
       "      <td>quercus</td>\n",
       "      <td>quercus robur</td>\n",
       "      <td>0</td>\n",
       "      <td>15.00</td>\n",
       "      <td>2.23</td>\n",
       "      <td>2.00</td>\n",
       "      <td>0</td>\n",
       "      <td>0</td>\n",
       "    </tr>\n",
       "    <tr>\n",
       "      <th>69281</th>\n",
       "      <td>54.08</td>\n",
       "      <td>12.19</td>\n",
       "      <td>prunus</td>\n",
       "      <td>prunus avium</td>\n",
       "      <td>0</td>\n",
       "      <td>13.00</td>\n",
       "      <td>1.52</td>\n",
       "      <td>1.00</td>\n",
       "      <td>0</td>\n",
       "      <td>0</td>\n",
       "    </tr>\n",
       "    <tr>\n",
       "      <th>69282</th>\n",
       "      <td>54.20</td>\n",
       "      <td>12.15</td>\n",
       "      <td>pinus</td>\n",
       "      <td>pinus sylvestris</td>\n",
       "      <td>0</td>\n",
       "      <td>19.00</td>\n",
       "      <td>1.58</td>\n",
       "      <td>7.00</td>\n",
       "      <td>0</td>\n",
       "      <td>0</td>\n",
       "    </tr>\n",
       "    <tr>\n",
       "      <th>69283</th>\n",
       "      <td>54.19</td>\n",
       "      <td>12.35</td>\n",
       "      <td>robinia</td>\n",
       "      <td>robinia pseudoacacia</td>\n",
       "      <td>0</td>\n",
       "      <td>20.00</td>\n",
       "      <td>2.96</td>\n",
       "      <td>1.00</td>\n",
       "      <td>0</td>\n",
       "      <td>0</td>\n",
       "    </tr>\n",
       "  </tbody>\n",
       "</table>\n",
       "<p>69284 rows × 10 columns</p>\n",
       "</div>"
      ],
      "text/plain": [
       "        lat  long    genus               species  alley_tree  height  \\\n",
       "0     54.06 12.10     acer      acer platanoides           0    8.00   \n",
       "1     54.05 12.10     acer      acer platanoides           0    8.00   \n",
       "2     54.07 12.12  quercus         quercus robur           0   18.00   \n",
       "3     54.07 12.12  quercus         quercus rubra           1    9.00   \n",
       "4     54.16 12.08    tilia         tilia cordata           1    7.00   \n",
       "...     ...   ...      ...                   ...         ...     ...   \n",
       "69279 54.19 12.15  quercus         quercus robur           0   25.00   \n",
       "69280 54.19 12.15  quercus         quercus robur           0   15.00   \n",
       "69281 54.08 12.19   prunus          prunus avium           0   13.00   \n",
       "69282 54.20 12.15    pinus      pinus sylvestris           0   19.00   \n",
       "69283 54.19 12.35  robinia  robinia pseudoacacia           0   20.00   \n",
       "\n",
       "       trunk_circumference  crown_diameter  sponsorship variety  \n",
       "0                     0.69            6.00            0       0  \n",
       "1                     0.69            6.00            0       0  \n",
       "2                     1.10            2.00            0       0  \n",
       "3                     1.00            2.00            0       0  \n",
       "4                     0.38            3.00            0       0  \n",
       "...                    ...             ...          ...     ...  \n",
       "69279                 2.40            2.00            0       0  \n",
       "69280                 2.23            2.00            0       0  \n",
       "69281                 1.52            1.00            0       0  \n",
       "69282                 1.58            7.00            0       0  \n",
       "69283                 2.96            1.00            0       0  \n",
       "\n",
       "[69284 rows x 10 columns]"
      ]
     },
     "execution_count": 5,
     "metadata": {},
     "output_type": "execute_result"
    }
   ],
   "source": [
    "df3 = pd.read_csv(\"dataframes/df3_trees.csv\")\n",
    "df3"
   ]
  },
  {
   "cell_type": "markdown",
   "id": "d2cbafe2-2fbc-4c89-bc40-0b0ffa9253a6",
   "metadata": {},
   "source": [
    "<h2 style=\"color: #ec7511;\">Making a Copy</h2>"
   ]
  },
  {
   "cell_type": "code",
   "execution_count": 7,
   "id": "0016b708-4344-450c-a0eb-c8e4250a22a1",
   "metadata": {},
   "outputs": [],
   "source": [
    "df5 = df3.copy()"
   ]
  },
  {
   "cell_type": "markdown",
   "id": "417a8a85-bc10-46e3-9494-fac45f62ad64",
   "metadata": {},
   "source": [
    "<h1 style=\"color: #e3db24;\">02 | Inferential Statistics</h1>"
   ]
  },
  {
   "cell_type": "markdown",
   "id": "58ec1312-cfbe-4a90-829c-d4ace665595b",
   "metadata": {
    "tags": []
   },
   "source": [
    "<h2 style=\"color: #ec7511;\">Sponsorship and Height</h2>"
   ]
  },
  {
   "cell_type": "markdown",
   "id": "38cac345-d500-49f2-8c33-2294bbad2a2a",
   "metadata": {},
   "source": [
    "<h3 style=\"color: #ec300e;\">Null and Alternative Hypothesis</h3>"
   ]
  },
  {
   "cell_type": "code",
   "execution_count": 11,
   "id": "63ac3e18-190d-4030-ad29-473e9e7da21f",
   "metadata": {},
   "outputs": [
    {
     "name": "stdout",
     "output_type": "stream",
     "text": [
      "Null Hypothesis (H₀): The mean height of trees with sponsorship is equal to the mean height of trees without sponsorship.\n",
      "Alternate Hypothesis (H₁): The mean height of trees with sponsorship is lower than the mean height of trees without sponsorship.\n"
     ]
    }
   ],
   "source": [
    "null_hypothesis = \"The mean height of trees with sponsorship is equal to the mean height of trees without sponsorship.\" # H₀\n",
    "alt_hypothesis = \"The mean height of trees with sponsorship is lower than the mean height of trees without sponsorship.\" # H₁\n",
    "\n",
    "print(f\"Null Hypothesis (H₀): {null_hypothesis}\")\n",
    "print(f\"Alternate Hypothesis (H₁): {alt_hypothesis}\")"
   ]
  },
  {
   "cell_type": "markdown",
   "id": "07ae1dbf-5c00-4959-a240-ed747fc88024",
   "metadata": {},
   "source": [
    "<h3 style=\"color: #ec300e;\">Level of Significance</h3>"
   ]
  },
  {
   "cell_type": "code",
   "execution_count": 13,
   "id": "262e02b2-d28a-4a36-8937-720cb2d67f0c",
   "metadata": {},
   "outputs": [
    {
     "name": "stdout",
     "output_type": "stream",
     "text": [
      "Level of Significance (α): 0.05\n"
     ]
    }
   ],
   "source": [
    "alpha = 0.05  # 5% significance level\n",
    "print(f\"Level of Significance (α): {alpha}\")"
   ]
  },
  {
   "cell_type": "markdown",
   "id": "30ab845a-92cd-4f11-ae9b-1d521f26bddf",
   "metadata": {},
   "source": [
    "<h3 style=\"color: #ec300e;\">Looking at Data before t-Test</h3>"
   ]
  },
  {
   "cell_type": "code",
   "execution_count": 15,
   "id": "c1d24768-f1d8-4c4d-8366-2bd6da8f99ae",
   "metadata": {},
   "outputs": [
    {
     "name": "stdout",
     "output_type": "stream",
     "text": [
      "The mean height of trees with a sponsorship is: 7.49 metres.\n",
      "The mean height of all trees: 12.21 metres.\n",
      "The standard deviation in height of trees with a sponsorship is: 4.21 metres.\n",
      "The number of trees with a sponsorship is: 155.\n"
     ]
    }
   ],
   "source": [
    "# sample mean = mean height of trees with sponsorship\n",
    "sample_mean = df5.loc[df5[\"sponsorship\"] == 1, \"height\"].mean()\n",
    "\n",
    "# pop_mean = mean height of all trees\n",
    "pop_mean = df5.height.mean()\n",
    "\n",
    "# std of the sample (trees with sponsorship)\n",
    "sample_std = df5.loc[df5[\"sponsorship\"] == 1, \"height\"].std()\n",
    "\n",
    "# n = number of trees with sponsorship\n",
    "n = df5[\"sponsorship\"].sum()\n",
    "\n",
    "print(f\"The mean height of trees with a sponsorship is: {round(sample_mean, 2)} metres.\")\n",
    "print(f\"The mean height of all trees: {round(pop_mean, 2)} metres.\")\n",
    "print(f\"The standard deviation in height of trees with a sponsorship is: {round(sample_std, 2)} metres.\")\n",
    "print(f\"The number of trees with a sponsorship is: {n}.\")"
   ]
  },
  {
   "cell_type": "markdown",
   "id": "500c608d-1277-4861-8d59-10012a9a7e61",
   "metadata": {},
   "source": [
    "<h3 style=\"color: #ec300e;\">Calculate One-Tailed T-Test</h3>"
   ]
  },
  {
   "cell_type": "code",
   "execution_count": 17,
   "id": "329a094c-e595-48e0-8258-5aeaf6075f38",
   "metadata": {},
   "outputs": [
    {
     "name": "stdout",
     "output_type": "stream",
     "text": [
      "Test Statistic (t): -13.92\n",
      "P-Value: 0.000000000000000000000000000024\n",
      "\n",
      "Reject the H0: There is evidence to say the mean height of trees with sponsorship is lower than for those without.\n"
     ]
    }
   ],
   "source": [
    "sample = df5.loc[df5[\"sponsorship\"] == 1, \"height\"]\n",
    "\n",
    "# one-tailed (less for left-tailed: H1=the mean is lower)\n",
    "t_stat, p_value = st.ttest_1samp(sample, pop_mean, alternative='less')\n",
    "print(f\"Test Statistic (t): {t_stat:.2f}\")\n",
    "print(f\"P-Value: {p_value:.30f}\")\n",
    "print()\n",
    "\n",
    "if p_value > alpha:\n",
    "    print(\"We cannot reject H0: There is not enough evidence to say that the mean height for trees with sponsorship is lower.\")\n",
    "else:\n",
    "    print(\"Reject the H0: There is evidence to say the mean height of trees with sponsorship is lower than for those without.\")"
   ]
  },
  {
   "cell_type": "markdown",
   "id": "ce326998-4a7d-4ad4-aad8-3b5906dd5b92",
   "metadata": {},
   "source": [
    "<h3 style=\"color: #ec300e;\">Visualization of Left-Tailed T-Test</h3>"
   ]
  },
  {
   "cell_type": "code",
   "execution_count": 19,
   "id": "0c3e5615-1eb9-4a9f-9afd-14819a13ff6b",
   "metadata": {},
   "outputs": [
    {
     "data": {
      "image/png": "[encoded data removed]",
      "text/plain": [
       "<Figure size 640x480 with 1 Axes>"
      ]
     },
     "metadata": {},
     "output_type": "display_data"
    }
   ],
   "source": [
    "# values for t-distribution\n",
    "x = np.linspace(-4, 4, 1000)\n",
    "y = st.t.pdf(x, df=n-1)\n",
    "\n",
    "plt.plot(x, y, label=\"t-Distribution\")\n",
    "\n",
    "# rejection range for left-tailed test\n",
    "plt.fill_between(x, 0, y, where=(x < st.t.ppf(alpha, df=n-1)), color='red', alpha=0.3, label='Rejection Region (Left-Tailed)')\n",
    "\n",
    "# t test\n",
    "plt.axvline(t_stat, color='blue', linestyle='--', label=f'Test Statistic (t = {t_stat:.2f})')\n",
    "\n",
    "plt.title(\"Left-Tailed Test Visualization\")\n",
    "plt.legend(loc=\"upper left\")\n",
    "plt.show()"
   ]
  },
  {
   "cell_type": "markdown",
   "id": "a537ab17-b5a2-4bce-9ddd-e0320386b520",
   "metadata": {},
   "source": [
    "<h3 style=\"color: #ec300e;\">Interpretation of Left-Tailed T-Test</h3>"
   ]
  },
  {
   "cell_type": "markdown",
   "id": "13ffacd4-ac7e-487b-9975-9f8816d50fd8",
   "metadata": {},
   "source": [
    "<div style=\"\n",
    "    padding: 15px;\n",
    "    margin: 10px 0;\n",
    "    border: 1px solid #b8daff;\n",
    "    border-radius: 4px;\n",
    "    background-color: #0eece8;\n",
    "    color: #004085;\n",
    "    font-size: 16px;\n",
    "    line-height: 1.5;\n",
    "    word-wrap: break-word;\n",
    "    text-align: left;\">\n",
    "    <strong>Conclusions:</strong>\n",
    "<p>The results show that trees which have a sponsorship are significantly lower than trees without a sponsorship. Possible reasons for this are speculative but one could be that trees with a sponsorship might be younger. Unfortunately, there is no data regarding the ages of the trees. An obvious reason would be if there was a significant connection between tree genera and sponsorship: if specific lower tree genera were more likely to have a sponsorship. Yet, this was checked in the EDA and is not the case. So for now, there is no obvious reason why trees with a sponsorship should be lower.</p>\n",
    "</div>\n"
   ]
  },
  {
   "cell_type": "markdown",
   "id": "61fb3ea3-fb30-472c-8421-8d67cfc4322f",
   "metadata": {},
   "source": [
    "<h2 style=\"color: #ec7511;\">Sponsorship and Trunk Circumference</h2>"
   ]
  },
  {
   "cell_type": "markdown",
   "id": "9130c256-a079-447b-a0d9-91697af7f09d",
   "metadata": {},
   "source": [
    "<h3 style=\"color: #ec300e;\">Null and Alternative Hypothesis</h3>"
   ]
  },
  {
   "cell_type": "code",
   "execution_count": 24,
   "id": "7b8ec6ea-6631-410c-83b9-bc52245e4b4c",
   "metadata": {},
   "outputs": [
    {
     "name": "stdout",
     "output_type": "stream",
     "text": [
      "Null Hypothesis (H₀): The mean trunk circumference of trees with sponsorship is equal to the mean trunk circumference of trees without sponsorship.\n",
      "Alternate Hypothesis (H₁): The mean trunk circumference of trees with sponsorship is lower than the mean trunk circumference of trees without sponsorship.\n"
     ]
    }
   ],
   "source": [
    "null_hypothesis = \"The mean trunk circumference of trees with sponsorship is equal to the mean trunk circumference of trees without sponsorship.\" # H₀\n",
    "alt_hypothesis = \"The mean trunk circumference of trees with sponsorship is lower than the mean trunk circumference of trees without sponsorship.\" # H₁\n",
    "\n",
    "print(f\"Null Hypothesis (H₀): {null_hypothesis}\")\n",
    "print(f\"Alternate Hypothesis (H₁): {alt_hypothesis}\")"
   ]
  },
  {
   "cell_type": "markdown",
   "id": "82b29cb9-0a48-45fc-87c3-6c1b15cc5f06",
   "metadata": {},
   "source": [
    "<h3 style=\"color: #ec300e;\">Level of Significance</h3>"
   ]
  },
  {
   "cell_type": "code",
   "execution_count": 26,
   "id": "b9da2a6a-d905-4107-95be-d74023ff28ac",
   "metadata": {},
   "outputs": [
    {
     "name": "stdout",
     "output_type": "stream",
     "text": [
      "Level of Significance (α): 0.05\n"
     ]
    }
   ],
   "source": [
    "alpha = 0.05  # 5% significance level\n",
    "print(f\"Level of Significance (α): {alpha}\")"
   ]
  },
  {
   "cell_type": "code",
   "execution_count": 27,
   "id": "c2d75965-9a90-4e86-b3c4-f5ea7649722a",
   "metadata": {},
   "outputs": [
    {
     "name": "stdout",
     "output_type": "stream",
     "text": [
      "The mean trunk circumference of trees with a sponsorship is: 0.72 metres.\n",
      "The mean trunk circumference of all trees: 1.01 metres.\n",
      "The standard deviation in trunk circumference of trees with a sponsorship is: 0.53 metres.\n",
      "The number of trees with a sponsorship is: 155.\n"
     ]
    }
   ],
   "source": [
    "# note: not all of these manual calculations are necessary for performing the t test, I am displaying the numbers out of interest\n",
    "\n",
    "# sample mean = mean trunk circumference of trees with sponsorship\n",
    "sample_mean = df5.loc[df5[\"sponsorship\"] == 1, \"trunk_circumference\"].mean()\n",
    "\n",
    "# pop_mean = mean trunk circumference of all trees\n",
    "pop_mean = df5.trunk_circumference.mean()\n",
    "\n",
    "# std of the sample (trees with sponsorship)\n",
    "sample_std = df5.loc[df5[\"sponsorship\"] == 1, \"trunk_circumference\"].std()\n",
    "\n",
    "# n = number of trees with sponsorship\n",
    "n = df5[\"sponsorship\"].sum()\n",
    "\n",
    "print(f\"The mean trunk circumference of trees with a sponsorship is: {round(sample_mean, 2)} metres.\")\n",
    "print(f\"The mean trunk circumference of all trees: {round(pop_mean, 2)} metres.\")\n",
    "print(f\"The standard deviation in trunk circumference of trees with a sponsorship is: {round(sample_std, 2)} metres.\")\n",
    "print(f\"The number of trees with a sponsorship is: {n}.\")"
   ]
  },
  {
   "cell_type": "markdown",
   "id": "69d89c60-00b0-4f3f-bf01-6484643fb8e4",
   "metadata": {},
   "source": [
    "<h3 style=\"color: #ec300e;\">Calculate One-Tailed T-Test</h3>"
   ]
  },
  {
   "cell_type": "code",
   "execution_count": 29,
   "id": "2536e5af-843c-4b79-b34c-dc0475f8435e",
   "metadata": {},
   "outputs": [
    {
     "name": "stdout",
     "output_type": "stream",
     "text": [
      "Test Statistic (t): -6.61\n",
      "P-Value: 0.00000000030\n",
      "\n",
      "Reject the H0: There is evidence to say the mean trunk circumference of trees with sponsorship is lower than for those without.\n"
     ]
    }
   ],
   "source": [
    "sample = df5.loc[df5[\"sponsorship\"] == 1, \"trunk_circumference\"]\n",
    "\n",
    "# one-tailed (less for left-tailed: H1=the mean is lower)\n",
    "t_stat, p_value = st.ttest_1samp(sample, pop_mean, alternative='less')\n",
    "print(f\"Test Statistic (t): {t_stat:.2f}\")\n",
    "print(f\"P-Value: {p_value:.11f}\")\n",
    "print()\n",
    "\n",
    "if p_value > alpha:\n",
    "    print(\"We cannot reject H0: There is not enough evidence to say that the mean trunk circumference for trees with sponsorship is lower.\")\n",
    "else:\n",
    "    print(\"Reject the H0: There is evidence to say the mean trunk circumference of trees with sponsorship is lower than for those without.\")"
   ]
  },
  {
   "cell_type": "markdown",
   "id": "1b76bc18-8ee9-4de6-8d36-6c3e1a99e3c0",
   "metadata": {},
   "source": [
    "<h3 style=\"color: #ec300e;\">Visualization of Left-Tailed T-Test</h3>"
   ]
  },
  {
   "cell_type": "code",
   "execution_count": 31,
   "id": "38d31776-498b-4d73-ab2c-874ca5cc43cd",
   "metadata": {},
   "outputs": [
    {
     "data": {
      "image/png": "[encoded data removed]",
      "text/plain": [
       "<Figure size 640x480 with 1 Axes>"
      ]
     },
     "metadata": {},
     "output_type": "display_data"
    }
   ],
   "source": [
    "# values for t-distribution\n",
    "x = np.linspace(-4, 4, 1000)\n",
    "y = st.t.pdf(x, df=n-1)\n",
    "\n",
    "plt.plot(x, y, label=\"t-Distribution\")\n",
    "\n",
    "# rejection range for left-tailed test\n",
    "plt.fill_between(x, 0, y, where=(x < st.t.ppf(alpha, df=n-1)), color='red', alpha=0.3, label='Rejection Region (Left-Tailed)')\n",
    "\n",
    "# t test\n",
    "plt.axvline(t_stat, color='blue', linestyle='--', label=f'Test Statistic (t = {t_stat:.2f})')\n",
    "\n",
    "plt.title(\"Left-Tailed Test Visualization\")\n",
    "plt.legend(loc=\"upper left\")\n",
    "plt.show()"
   ]
  },
  {
   "cell_type": "markdown",
   "id": "a6a37fa3-6fe1-4dde-98f6-cae7624edf4f",
   "metadata": {},
   "source": [
    "<h3 style=\"color: #ec300e;\">Interpretation of Left-Tailed T-Test</h3>"
   ]
  },
  {
   "cell_type": "markdown",
   "id": "94d40902-a33c-44e2-a362-11e89a4d6b77",
   "metadata": {},
   "source": [
    "<div style=\"\n",
    "    padding: 15px;\n",
    "    margin: 10px 0;\n",
    "    border: 1px solid #b8daff;\n",
    "    border-radius: 4px;\n",
    "    background-color: #0eece8;\n",
    "    color: #004085;\n",
    "    font-size: 16px;\n",
    "    line-height: 1.5;\n",
    "    word-wrap: break-word;\n",
    "    text-align: left;\">\n",
    "    <strong>Conclusions:</strong>\n",
    "<p>The results show that trees which have a sponsorship have a significantly smaller trunk circumference than trees without a sponsorship. The result is not as strong as for the influence of height but still very strong. As for possible reasons: This could strengthen the theory mentoned before that younger trees are more often being sponsored.</p>\n",
    "</div>"
   ]
  }
 ],
 "metadata": {
  "kernelspec": {
   "display_name": "Python 3 (ipykernel)",
   "language": "python",
   "name": "python3"
  },
  "language_info": {
   "codemirror_mode": {
    "name": "ipython",
    "version": 3
   },
   "file_extension": ".py",
   "mimetype": "text/x-python",
   "name": "python",
   "nbconvert_exporter": "python",
   "pygments_lexer": "ipython3",
   "version": "3.11.7"
  }
 },
 "nbformat": 4,
 "nbformat_minor": 5
}
